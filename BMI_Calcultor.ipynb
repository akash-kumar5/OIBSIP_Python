{
 "cells": [
  {
   "cell_type": "code",
   "execution_count": 1,
   "metadata": {},
   "outputs": [
    {
     "name": "stdout",
     "output_type": "stream",
     "text": [
      "BMI Calculator\n",
      "---------------\n",
      "\n",
      "Results:\n",
      "Your BMI is: 18.73\n",
      "Category: Normal weight\n"
     ]
    }
   ],
   "source": [
    "def get_valid_input(prompt, lower_limit=None, upper_limit=None):\n",
    "    \"\"\"\n",
    "    Prompt the user for numeric input and validate within specified limits.\n",
    "    \"\"\"\n",
    "    while True:\n",
    "        try:\n",
    "            value = float(input(prompt))\n",
    "            if (lower_limit is None or value >= lower_limit) and (upper_limit is None or value <= upper_limit):\n",
    "                return value\n",
    "            else:\n",
    "                print(\"Invalid input. Please enter a valid value.\")\n",
    "        except ValueError:\n",
    "            print(\"Invalid input. Please enter a numeric value.\")\n",
    "\n",
    "def calculate_bmi(weight, height):\n",
    "    \"\"\"\n",
    "    Calculate BMI using the formula: BMI = weight / (height ** 2)\n",
    "    \"\"\"\n",
    "    bmi = weight / (height ** 2)\n",
    "    return bmi\n",
    "\n",
    "def classify_bmi(bmi):\n",
    "    \"\"\"\n",
    "    Classify BMI into health categories based on predefined ranges.\n",
    "    \"\"\"\n",
    "    if bmi < 18.5:\n",
    "        return \"Underweight\"\n",
    "    elif 18.5 <= bmi < 24.9:\n",
    "        return \"Normal weight\"\n",
    "    elif 25 <= bmi < 29.9:\n",
    "        return \"Overweight\"\n",
    "    else:\n",
    "        return \"Obese\"\n",
    "\n",
    "def main():\n",
    "    print(\"BMI Calculator\")\n",
    "    print(\"---------------\")\n",
    "\n",
    "    # Get user input for weight and height with validation\n",
    "    weight = get_valid_input(\"Enter your weight in kilograms: \", lower_limit=0.1)\n",
    "    height = get_valid_input(\"Enter your height in meters: \", lower_limit=0.1)\n",
    "\n",
    "    # Calculate BMI\n",
    "    bmi = calculate_bmi(weight, height)\n",
    "\n",
    "    # Classify BMI\n",
    "    category = classify_bmi(bmi)\n",
    "\n",
    "    # Display results\n",
    "    print(\"\\nResults:\")\n",
    "    print(f\"Your BMI is: {bmi:.2f}\")\n",
    "    print(f\"Category: {category}\")\n",
    "\n",
    "if __name__ == \"__main__\":\n",
    "    main()\n",
    "    "
   ]
  },
  {
   "cell_type": "code",
   "execution_count": null,
   "metadata": {},
   "outputs": [],
   "source": []
  }
 ],
 "metadata": {
  "kernelspec": {
   "display_name": "Python 3",
   "language": "python",
   "name": "python3"
  },
  "language_info": {
   "codemirror_mode": {
    "name": "ipython",
    "version": 3
   },
   "file_extension": ".py",
   "mimetype": "text/x-python",
   "name": "python",
   "nbconvert_exporter": "python",
   "pygments_lexer": "ipython3",
   "version": "3.12.0"
  }
 },
 "nbformat": 4,
 "nbformat_minor": 2
}
